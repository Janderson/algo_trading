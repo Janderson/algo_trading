{
 "cells": [
  {
   "cell_type": "code",
   "execution_count": 1,
   "metadata": {},
   "outputs": [],
   "source": [
    "import pandas as pd\n",
    "import numpy as np\n",
    "import matplotlib.pyplot as plt\n",
    "import seaborn as sns\n",
    "import qgrid\n",
    "import warnings\n",
    "warnings.filterwarnings(\"ignore\")\n",
    "from app.tools.predictive_power import CPredictivePower\n",
    "from app.market_data.mt5.get_data import CMT5MarketData\n",
    "from app.core.calculator import Calculator\n",
    "\n",
    "%matplotlib inline"
   ]
  },
  {
   "cell_type": "code",
   "execution_count": 12,
   "metadata": {},
   "outputs": [],
   "source": [
    "mt5 = CMT5MarketData() \n",
    "stock_timeframes = [\n",
    "    (\"PETR4\", \"M5\"),\n",
    "    (\"WIN$N\", \"M5\"),\n",
    "]\n",
    "collection = mt5.get_stocks(stock_timeframes, qtd_bars=100000)\n"
   ]
  },
  {
   "cell_type": "code",
   "execution_count": 14,
   "metadata": {},
   "outputs": [],
   "source": [
    "collection.collection[1].get().to_csv(\"e:/data/pymt5/win_n.csv\")"
   ]
  }
 ],
 "metadata": {
  "kernelspec": {
   "display_name": "Python 3",
   "language": "python",
   "name": "python3"
  },
  "language_info": {
   "codemirror_mode": {
    "name": "ipython",
    "version": 3
   },
   "file_extension": ".py",
   "mimetype": "text/x-python",
   "name": "python",
   "nbconvert_exporter": "python",
   "pygments_lexer": "ipython3",
   "version": "3.7.6"
  }
 },
 "nbformat": 4,
 "nbformat_minor": 4
}
